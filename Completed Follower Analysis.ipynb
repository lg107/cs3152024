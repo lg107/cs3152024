{
 "cells": [
  {
   "cell_type": "code",
   "execution_count": 1,
   "id": "ad7db80f-d09a-45f0-94ee-fb763e3af8b5",
   "metadata": {},
   "outputs": [
    {
     "name": "stderr",
     "output_type": "stream",
     "text": [
      "C:\\Users\\Lucia\\AppData\\Local\\Temp\\ipykernel_27420\\1526808093.py:5: DeprecationWarning: \n",
      "Pyarrow will become a required dependency of pandas in the next major release of pandas (pandas 3.0),\n",
      "(to allow more performant data types, such as the Arrow string type, and better interoperability with other libraries)\n",
      "but was not found to be installed on your system.\n",
      "If this would cause problems for you,\n",
      "please provide us feedback at https://github.com/pandas-dev/pandas/issues/54466\n",
      "        \n",
      "  import pandas as pd\n"
     ]
    }
   ],
   "source": [
    "#Import required libraries\n",
    "import json\n",
    "import os\n",
    "from collections import defaultdict\n",
    "import pandas as pd\n",
    "import seaborn as sns\n",
    "from matplotlib import pyplot as plt\n",
    "import numpy as np\n",
    "from matplotlib import pyplot as plt\n",
    "import csv"
   ]
  },
  {
   "cell_type": "code",
   "execution_count": 2,
   "id": "473985e6-768f-4f9e-bb90-cb7f526f751c",
   "metadata": {},
   "outputs": [],
   "source": [
    "def createdata(fileName):\n",
    "    #get data from a json file\n",
    "    data = json.load(open(fileName, encoding=\"utf8\"))\n",
    "    return data"
   ]
  },
  {
   "cell_type": "code",
   "execution_count": 3,
   "id": "e4d7e8fd-18d7-42cb-86d8-3dbc5cb562fe",
   "metadata": {},
   "outputs": [],
   "source": [
    "def getfollowers(data):\n",
    "    # get list of dictionaries, representing accounts followed\n",
    "    followers = data['Activity']['Following List']['Following']\n",
    "    return followers"
   ]
  },
  {
   "cell_type": "code",
   "execution_count": 4,
   "id": "65054373-13ec-40e7-975a-943c741a24e3",
   "metadata": {},
   "outputs": [],
   "source": [
    "def followerlist(followers):\n",
    "    # create a list of accounts followed\n",
    "    follower_list = []\n",
    "    for ii in followers:\n",
    "        current_dict = ii\n",
    "        follower = current_dict[\"UserName\"]\n",
    "        follower_list.append(follower)\n",
    "    return follower_list"
   ]
  },
  {
   "cell_type": "code",
   "execution_count": 5,
   "id": "ee9ed930-1cb6-4290-b6e0-97816a06f7ed",
   "metadata": {},
   "outputs": [],
   "source": [
    "def getnewslist(fileName):\n",
    "    # get news accounts from class CSV file\n",
    "    df = pd.read_csv(fileName)\n",
    "    news_list = df['Username'].tolist()\n",
    "    return news_list"
   ]
  },
  {
   "cell_type": "code",
   "execution_count": 6,
   "id": "7d1f6fda-738a-4560-b955-20dffb728125",
   "metadata": {},
   "outputs": [],
   "source": [
    "def checkoverlap(follower_list, news_list):\n",
    "    # check overlap between follower list and news accounts\n",
    "    overlap = 0\n",
    "    for ii in follower_list:\n",
    "        if ii in news_list:\n",
    "            #print(ii)\n",
    "            overlap += 1\n",
    "    return overlap"
   ]
  },
  {
   "cell_type": "code",
   "execution_count": 7,
   "id": "df24a195-9afe-4dc7-9107-32ca955d9274",
   "metadata": {},
   "outputs": [],
   "source": [
    "def findalloverlap(fileName, newsFileName):\n",
    "    # automate entire overlap check process\n",
    "    data = createdata(fileName)\n",
    "    followers = getfollowers(data)\n",
    "    follower_list = followerlist(followers)\n",
    "    newslist = getnewslist(newsFileName)\n",
    "    totaloverlap = checkoverlap(follower_list, newslist)\n",
    "    return totaloverlap"
   ]
  },
  {
   "cell_type": "code",
   "execution_count": 8,
   "id": "a8bd36d0-87d8-4923-825c-227eaeb2b6b2",
   "metadata": {},
   "outputs": [],
   "source": [
    "def getnumfollowed(fileName):\n",
    "    data = createdata(fileName)\n",
    "    followers = getfollowers(data)\n",
    "    numfollow = len(followers)\n",
    "    return numfollow"
   ]
  },
  {
   "cell_type": "code",
   "execution_count": 9,
   "id": "02d3ded8-0fb6-4881-9741-3ba93d527810",
   "metadata": {},
   "outputs": [],
   "source": [
    "def createDataFrame(fileList, newsFile):\n",
    "    filelist = fileList\n",
    "    followlist = []\n",
    "    overlaplist = []\n",
    "    notnewslist = []\n",
    "    accountnumlist = []\n",
    "    \n",
    "    for ii in filelist:\n",
    "        numfollow = getnumfollowed(ii)\n",
    "        followlist.append(numfollow)\n",
    "        \n",
    "        numoverlap = findalloverlap(ii, newsFile)\n",
    "        overlaplist.append(numoverlap)\n",
    "\n",
    "        index = filelist.index(ii) +1\n",
    "        accountnum = \"Account\" + str(index)\n",
    "        accountnumlist.append(accountnum)\n",
    "        \n",
    "    for jj in range(len(filelist)):\n",
    "        numFollowNotNews = followlist[jj] - overlaplist[jj]\n",
    "        notnewslist.append(numFollowNotNews)\n",
    "    \n",
    "    overlapFrame = pd.DataFrame(\n",
    "        {'Account': accountnumlist,\n",
    "         'Total Followers':np.array(followlist),\n",
    "         'News Accounts':np.array(overlaplist),\n",
    "         'Not News Accounts':np.array(notnewslist)\n",
    "         })\n",
    "    return overlapFrame"
   ]
  },
  {
   "cell_type": "code",
   "execution_count": 10,
   "id": "8e209d65-027f-4b55-9880-1a4ce0282ee3",
   "metadata": {},
   "outputs": [
    {
     "name": "stdout",
     "output_type": "stream",
     "text": [
      "    Account  Total Followers  News Accounts  Not News Accounts\n",
      "0  Account1              148              1                147\n",
      "1  Account2               50              0                 50\n",
      "2  Account3               71              1                 70\n"
     ]
    }
   ],
   "source": [
    "fileList = [\"C:/Users/Lucia/Desktop/Capstone/Data/user_data2.json\", \n",
    "            \"C:/Users/Lucia/Downloads/user_data.json\",\n",
    "            \"C:/Users/Lucia/OneDrive/CS 315/Project2/CS315_Project2_Group1/user_data3.json\"]\n",
    "print(createDataFrame(fileList, 'C:/Users/Lucia/OneDrive/CS 315/List of News Accounts (both sections) - news accounts.csv'))"
   ]
  },
  {
   "cell_type": "code",
   "execution_count": 15,
   "id": "bfedb540-fc52-47cb-915d-dcb1e444bc86",
   "metadata": {},
   "outputs": [
    {
     "name": "stdout",
     "output_type": "stream",
     "text": [
      "Account follows: 148\n",
      "No. videos:  19102\n",
      "0.35074861271071095% of the videos are from accounts the user follows\n"
     ]
    }
   ],
   "source": [
    "# Find overlap of authors from metadata and accounts user follows\n",
    "def getauthorlist(fileName):\n",
    "    # get news accounts from class CSV file\n",
    "    df = pd.read_csv(fileName)\n",
    "    author_list = df['author_username'].tolist()\n",
    "    return author_list\n",
    "\n",
    "def overlap(fileName, metadataName):\n",
    "    # automate entire overlap check process\n",
    "    data = createdata(fileName)\n",
    "    followers = getfollowers(data)\n",
    "    follower_list = followerlist(followers)\n",
    "    print(\"Account follows: \" + str(len(follower_list)))\n",
    "\n",
    "    authorlist = getauthorlist(metadataName)\n",
    "    print(\"No. videos:  \" + str(len(authorlist)))\n",
    "\n",
    "    totaloverlap = checkoverlap(follower_list, authorlist) / len(authorlist)\n",
    "    return totaloverlap\n",
    "\n",
    "result = overlap(\"C:/Users/Lucia/Desktop/Capstone/Data/user_data2.json\", \"C:/Users/Lucia/Desktop/Capstone/Data/results_12345(19019 rows).csv\")\n",
    "print(str(result * 100) + \"% of the videos are from accounts the user follows\")"
   ]
  },
  {
   "cell_type": "code",
   "execution_count": 17,
   "id": "1daaf49a-1ea6-42af-978d-0dd5dda731f9",
   "metadata": {},
   "outputs": [
    {
     "name": "stdout",
     "output_type": "stream",
     "text": [
      "Account follows: 148\n",
      "No. videos:  19102\n",
      "0.35074861271071095% of the videos are from accounts user A follows\n",
      "Account follows: 50\n",
      "No. videos:  10539\n",
      "0.4554511813265016% of the videos are from accounts user B follows\n",
      "Account follows: 71\n",
      "No. videos:  7087\n",
      "0.14110342881332016% of the videos are from accounts user C follows\n"
     ]
    }
   ],
   "source": [
    "resultA = overlap(\"C:/Users/Lucia/Desktop/Capstone/Data/user_data2.json\", \"C:/Users/Lucia/Desktop/Capstone/Data/results_12345(19019 rows).csv\")\n",
    "print(str(resultA * 100) + \"% of the videos are from accounts user A follows\")\n",
    "\n",
    "resultB = overlap(\"C:/Users/Lucia/Downloads/user_data.json\", \"C:/Users/Lucia/Desktop/Capstone/Data/results_10824.2 (1).csv\")\n",
    "print(str(resultB * 100) + \"% of the videos are from accounts user B follows\")\n",
    "\n",
    "resultC = overlap(\"C:/Users/Lucia/OneDrive/CS 315/Project2/CS315_Project2_Group1/user_data3.json\", \"C:/Users/Lucia/Desktop/Capstone/Data/results_50405.csv\")\n",
    "print(str(resultC * 100) + \"% of the videos are from accounts user C follows\")\n"
   ]
  },
  {
   "cell_type": "code",
   "execution_count": null,
   "id": "80e7be31-e164-412e-9e26-0cf328d2e488",
   "metadata": {},
   "outputs": [],
   "source": []
  }
 ],
 "metadata": {
  "kernelspec": {
   "display_name": "Python 3 (ipykernel)",
   "language": "python",
   "name": "python3"
  },
  "language_info": {
   "codemirror_mode": {
    "name": "ipython",
    "version": 3
   },
   "file_extension": ".py",
   "mimetype": "text/x-python",
   "name": "python",
   "nbconvert_exporter": "python",
   "pygments_lexer": "ipython3",
   "version": "3.11.5"
  }
 },
 "nbformat": 4,
 "nbformat_minor": 5
}
